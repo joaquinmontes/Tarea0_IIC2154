{
 "cells": [
  {
   "cell_type": "markdown",
   "metadata": {
    "id": "0UnrWW_uM9rO"
   },
   "source": [
    "# Tarea IIC2154\n",
    "\n",
    "Joaquín Montes Valdvieso"
   ]
  },
  {
   "cell_type": "code",
   "execution_count": 47,
   "metadata": {
    "colab": {
     "base_uri": "https://localhost:8080/"
    },
    "id": "yKjwN3_c3qYt",
    "outputId": "0a48ba78-be3d-4a14-8132-2b37e0d72091"
   },
   "outputs": [
    {
     "name": "stdout",
     "output_type": "stream",
     "text": [
      "Drive already mounted at /content/gdrive; to attempt to forcibly remount, call drive.mount(\"/content/gdrive\", force_remount=True).\n"
     ]
    }
   ],
   "source": [
    "from google.colab import drive\n",
    "drive.mount('/content/gdrive')"
   ]
  },
  {
   "cell_type": "code",
   "execution_count": null,
   "metadata": {
    "colab": {
     "base_uri": "https://localhost:8080/",
     "height": 525
    },
    "id": "DgXRlbnd6oS5",
    "outputId": "176e6a26-6678-4496-f3e7-079e5087e7f5"
   },
   "outputs": [],
   "source": [
    "import pandas as pd\n",
    "import warnings\n",
    "warnings.filterwarnings(\"ignore\")\n",
    "\n",
    "df = pd.read_json(r'farmers-protest-tweets-2021-03-5.json', lines=True,  encoding=\"utf8\")\n",
    "df.head(5)"
   ]
  },
  {
   "cell_type": "markdown",
   "metadata": {
    "id": "R1R-x9ia7nUm"
   },
   "source": [
    "Función que retorna los 10 tweets más retweeted"
   ]
  },
  {
   "cell_type": "code",
   "execution_count": 62,
   "metadata": {
    "id": "qqjp0jPO7nGW"
   },
   "outputs": [],
   "source": [
    "def most_retweeted(df):\n",
    "    list_most_retweeted = []\n",
    "    how_many_retweets = []\n",
    "    for tweet in df.index:\n",
    "        if len(list_most_retweeted) == 10:\n",
    "            if int(df.iloc[tweet]['retweetCount']) > min(how_many_retweets):\n",
    "                list_is_update = False\n",
    "                for i in range(0,10):\n",
    "                    while list_is_update is False:\n",
    "                        if how_many_retweets[i] == min(how_many_retweets):\n",
    "                            list_most_retweeted[i] = tweet\n",
    "                            how_many_retweets[i] = int(df.iloc[tweet]['retweetCount'])\n",
    "                            list_is_update = True\n",
    "        else:\n",
    "            list_most_retweeted.append(df.iloc[tweet])\n",
    "            how_many_retweets.append(int(df.iloc[tweet]['retweetCount']))\n",
    "    return print(list_most_retweeted)"
   ]
  },
  {
   "cell_type": "markdown",
   "metadata": {
    "id": "ErUEsfEYLqbi"
   },
   "source": [
    "Función que retorna los 10 usuarios que emitieron más tweets"
   ]
  },
  {
   "cell_type": "code",
   "execution_count": 4,
   "metadata": {
    "id": "ONzNK8y87mOI"
   },
   "outputs": [],
   "source": [
    "def most_emmited(df):\n",
    "    dict_n_tweets = dict()\n",
    "    for tweet in df.index:\n",
    "        if df.iloc[tweet]['user']['id'] in dict_n_tweets.keys():\n",
    "            dict_n_tweets[df.iloc[tweet]['user']['id']] = int(dict_n_tweets[df.iloc[tweet]['user']['id']]) + 1\n",
    "        else:\n",
    "            dict_n_tweets[df.iloc[tweet]['user']['id']] = 1\n",
    "    return print(get_top_10(dict_n_tweets))\n",
    "\n",
    "def get_top_10(dictionary):\n",
    "    list_top_10 = []\n",
    "    top_10_values = []\n",
    "    for g in dictionary:\n",
    "        if len(list_top_10) == 10: \n",
    "            if int(dictionary[g]) > min(top_10_values):\n",
    "                list_is_update = False          \n",
    "                for i in range(0,10):\n",
    "                    while list_is_update is False:\n",
    "                        if top_10_values[i] == min(top_10_values):\n",
    "                            list_top_10[i] = g\n",
    "                            top_10_values[i] = int(dictionary[g]) \n",
    "                            list_is_update = True\n",
    "    return list_top_10"
   ]
  },
  {
   "cell_type": "markdown",
   "metadata": {
    "id": "n31EeNSXMBwe"
   },
   "source": [
    "Función que retorna los 10 días con más tweets"
   ]
  },
  {
   "cell_type": "code",
   "execution_count": 1,
   "metadata": {
    "id": "2BUxclT47mCe"
   },
   "outputs": [],
   "source": [
    "def most_tweets_days(df):\n",
    "    dict_n_tweets = dict()\n",
    "    for tweet in df.index:\n",
    "        if df.iloc[tweet]['date'][:9] in dict_n_tweets.keys():\n",
    "            dict_n_tweets[df.iloc[tweet]['date'][:9]] = int(dict_n_tweets[df.iloc[tweet]['date'][:9]]) + 1\n",
    "        else:\n",
    "            dict_n_tweets[df.iloc[tweet]['date'][:9]] = 1\n",
    "    return print(get_top_10(dict_n_tweets))"
   ]
  },
  {
   "cell_type": "markdown",
   "metadata": {
    "id": "-g9sJynPL7Qv"
   },
   "source": [
    "Función que retorna los 10 hashtags más usados"
   ]
  },
  {
   "cell_type": "code",
   "execution_count": 3,
   "metadata": {
    "id": "G-8pEHyl7lS9"
   },
   "outputs": [],
   "source": [
    "def most_used_hashtags(df):\n",
    "    dict_n_tweets = dict()\n",
    "    for tweet in df.index:\n",
    "        for i in df.iloc[tweet]['content']:\n",
    "            if i == \"#\":\n",
    "                hashtag = \"\"\n",
    "                hashtag_hasnt_finish = True\n",
    "                for g in df.iloc[tweet]['content'][i+1:]:\n",
    "                    while hashtag_hasnt_finish:\n",
    "                        if g in \"AaBbCcDdEeFfGgHhIiJjKkLlMmNnÑñOoPpQqRrSsTtUuVvWwXxYyZz\":\n",
    "                            #I verified in Twitter that if you use symbols the hashtag doesn't considere them \n",
    "                            # for example: \"#hello:)\" == \"#hello\"\n",
    "                            hashtag = hashtag + g\n",
    "                        else:\n",
    "                            hashtag_hasnt_finish = False\n",
    "        if hashtag in dict_n_tweets.keys():\n",
    "            dict_n_tweets[hashtag] = int(dict_n_tweets[hashtag]) + 1\n",
    "        else:\n",
    "            dict_n_tweets[hashtag] = 1\n",
    "    return get_top_10(dict_n_tweets)"
   ]
  },
  {
   "cell_type": "markdown",
   "metadata": {
    "id": "0H8gw6sWFxpo"
   },
   "source": [
    "Función main"
   ]
  },
  {
   "cell_type": "code",
   "execution_count": 59,
   "metadata": {
    "id": "blODouvQU5N6"
   },
   "outputs": [],
   "source": [
    "def main(df):\n",
    "    most_retweeted(df)\n",
    "    most_tweets_days(df)\n",
    "    most_used_hashtags(df)\n",
    "    \n",
    "if __name__ == \"__main__\":\n",
    "    main(df)"
   ]
  },
  {
   "cell_type": "markdown",
   "metadata": {
    "id": "JfT4THlAMSm5"
   },
   "source": [
    "Mi computador no fue capaz de manejar el archivo original, por lo que es posible que tenga errores en la lectura u otras partes del código, sin embargo lo que probé con el dataset https://www.kaggle.com/code/prathamsharma123/clean-raw-json-tweets-data/data?select=farmers-protest-tweets-2021-2-4.json que contiene la misma información, y si lo lee bien."
   ]
  },
  {
   "cell_type": "code",
   "execution_count": null,
   "metadata": {},
   "outputs": [],
   "source": []
  }
 ],
 "metadata": {
  "colab": {
   "collapsed_sections": [],
   "name": "Tarea0.ipynb",
   "provenance": []
  },
  "kernelspec": {
   "display_name": "Python 3 (ipykernel)",
   "language": "python",
   "name": "python3"
  },
  "language_info": {
   "codemirror_mode": {
    "name": "ipython",
    "version": 3
   },
   "file_extension": ".py",
   "mimetype": "text/x-python",
   "name": "python",
   "nbconvert_exporter": "python",
   "pygments_lexer": "ipython3",
   "version": "3.8.10"
  }
 },
 "nbformat": 4,
 "nbformat_minor": 1
}
